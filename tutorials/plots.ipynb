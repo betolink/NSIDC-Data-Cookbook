{
 "cells": [
  {
   "cell_type": "code",
   "execution_count": 1,
   "id": "c4bd3739-91fb-4f0a-a7b3-6415cbaa7b33",
   "metadata": {
    "tags": []
   },
   "outputs": [],
   "source": [
    "import matplotlib.pyplot as plt"
   ]
  },
  {
   "cell_type": "markdown",
   "id": "fe694827-a51c-402a-9ea6-c95d9e61e62c",
   "metadata": {},
   "source": [
    "## Spatial Reference System"
   ]
  },
  {
   "cell_type": "code",
   "execution_count": 23,
   "id": "56c428ad-482b-47e8-8b7e-04dca06c4a70",
   "metadata": {
    "tags": []
   },
   "outputs": [
    {
     "data": {
      "text/plain": [
       "<matplotlib.collections.PathCollection at 0x7f1b754dee90>"
      ]
     },
     "execution_count": 23,
     "metadata": {},
     "output_type": "execute_result"
    },
    {
     "data": {
      "image/png": "[encoded data removed]",
      "text/plain": [
       "<Figure size 500x500 with 1 Axes>"
      ]
     },
     "metadata": {},
     "output_type": "display_data"
    }
   ],
   "source": [
    "fig = plt.figure(figsize=(5,5))\n",
    "ax = fig.add_subplot()\n",
    "\n",
    "ax.set_xlim(0, 1)\n",
    "ax.set_ylim(0, 1)\n",
    "\n",
    "x, y = 0.34, 0.44 \n",
    "ax.scatter(x, y)\n",
    "#ax.annotate?\n",
    "#ax.set_axis_off()"
   ]
  },
  {
   "cell_type": "markdown",
   "id": "e3c37205-97e1-4967-a571-21987c4f21ea",
   "metadata": {},
   "source": [
    "## Affine Matrix to Convert `mapx` grid to raster grid"
   ]
  },
  {
   "cell_type": "code",
   "execution_count": 30,
   "id": "22fd385d-8739-4563-8aaf-c9b705f17b7d",
   "metadata": {
    "tags": []
   },
   "outputs": [],
   "source": [
    "import numpy as np\n",
    "\n",
    "from affine import Affine"
   ]
  },
  {
   "cell_type": "code",
   "execution_count": 31,
   "id": "e55b1e58-d372-446f-a001-0311359329f2",
   "metadata": {
    "tags": []
   },
   "outputs": [],
   "source": [
    "mapx_affn = Affine(1.0, 0.0, -0.5, 0.0, -1.0, -0.5)"
   ]
  },
  {
   "cell_type": "code",
   "execution_count": 32,
   "id": "fc75a870-4251-4c1d-bcaa-12b4352ad634",
   "metadata": {
    "tags": []
   },
   "outputs": [],
   "source": [
    "x = np.arange(9)\n",
    "y = np.arange(9)"
   ]
  },
  {
   "cell_type": "code",
   "execution_count": 35,
   "id": "7d2e0126-1a43-4eab-8afc-93b2913f1eae",
   "metadata": {
    "tags": []
   },
   "outputs": [
    {
     "data": {
      "text/plain": [
       "(array([-0.5,  0.5,  1.5,  2.5,  3.5,  4.5,  5.5,  6.5,  7.5]),\n",
       " array([-0.5, -1.5, -2.5, -3.5, -4.5, -5.5, -6.5, -7.5, -8.5]))"
      ]
     },
     "execution_count": 35,
     "metadata": {},
     "output_type": "execute_result"
    }
   ],
   "source": [
    "mapx_affn * (x, y)"
   ]
  },
  {
   "cell_type": "code",
   "execution_count": 40,
   "id": "4bfbc3a9-752a-43f5-9bb9-66faa8bd887e",
   "metadata": {
    "tags": []
   },
   "outputs": [],
   "source": [
    "a = Affine.translation(-0.5, -0.5)"
   ]
  },
  {
   "cell_type": "code",
   "execution_count": 41,
   "id": "871476dd-77aa-45af-b1e3-a2b62a0f2311",
   "metadata": {
    "tags": []
   },
   "outputs": [
    {
     "data": {
      "text/plain": [
       "(array([-0.5,  0.5,  1.5,  2.5,  3.5,  4.5,  5.5,  6.5,  7.5]),\n",
       " array([-0.5,  0.5,  1.5,  2.5,  3.5,  4.5,  5.5,  6.5,  7.5]))"
      ]
     },
     "execution_count": 41,
     "metadata": {},
     "output_type": "execute_result"
    }
   ],
   "source": [
    "a * (x, y)"
   ]
  },
  {
   "cell_type": "code",
   "execution_count": 42,
   "id": "2af1c493-c0ad-4ff5-afcc-f26f7786db77",
   "metadata": {
    "tags": []
   },
   "outputs": [
    {
     "data": {
      "text/plain": [
       "Affine(1.0, 0.0, -0.5,\n",
       "       0.0, 1.0, -0.5)"
      ]
     },
     "execution_count": 42,
     "metadata": {},
     "output_type": "execute_result"
    }
   ],
   "source": [
    "a"
   ]
  },
  {
   "cell_type": "code",
   "execution_count": 43,
   "id": "a140f9cc-2d78-47d6-8389-a16491987af9",
   "metadata": {
    "tags": []
   },
   "outputs": [
    {
     "data": {
      "text/plain": [
       "(179.5, 179.5)"
      ]
     },
     "execution_count": 43,
     "metadata": {},
     "output_type": "execute_result"
    }
   ],
   "source": [
    "a * (180, 180)"
   ]
  },
  {
   "cell_type": "code",
   "execution_count": 44,
   "id": "25008df5-936d-4fd4-bcab-e186514af164",
   "metadata": {
    "tags": []
   },
   "outputs": [
    {
     "data": {
      "text/plain": [
       "(2.5, 2.5)"
      ]
     },
     "execution_count": 44,
     "metadata": {},
     "output_type": "execute_result"
    }
   ],
   "source": [
    "a * (3, 3)"
   ]
  },
  {
   "cell_type": "code",
   "execution_count": 48,
   "id": "8507e6a1-751c-445a-9626-ff443c856ec3",
   "metadata": {
    "tags": []
   },
   "outputs": [],
   "source": [
    "b = Affine.scale(25000, -25000)"
   ]
  },
  {
   "cell_type": "code",
   "execution_count": 49,
   "id": "f3fb13d6-b42a-4871-96f9-0acd55aacd8f",
   "metadata": {
    "tags": []
   },
   "outputs": [
    {
     "name": "stderr",
     "output_type": "stream",
     "text": [
      "/tmp/ipykernel_51944/1618209977.py:1: DeprecationWarning: Right multiplication will be prohibited in version 3.0\n",
      "  a * (3,3) * b\n"
     ]
    },
    {
     "data": {
      "text/plain": [
       "(62500.0, -62500.0)"
      ]
     },
     "execution_count": 49,
     "metadata": {},
     "output_type": "execute_result"
    }
   ],
   "source": [
    "a * (3,3) * b"
   ]
  },
  {
   "cell_type": "code",
   "execution_count": null,
   "id": "0cb2c1de-8ba7-4d0b-b601-cf566e7b5a60",
   "metadata": {},
   "outputs": [],
   "source": []
  }
 ],
 "metadata": {
  "kernelspec": {
   "display_name": "Python 3 (ipykernel)",
   "language": "python",
   "name": "python3"
  },
  "language_info": {
   "codemirror_mode": {
    "name": "ipython",
    "version": 3
   },
   "file_extension": ".py",
   "mimetype": "text/x-python",
   "name": "python",
   "nbconvert_exporter": "python",
   "pygments_lexer": "ipython3",
   "version": "3.11.0"
  }
 },
 "nbformat": 4,
 "nbformat_minor": 5
}
